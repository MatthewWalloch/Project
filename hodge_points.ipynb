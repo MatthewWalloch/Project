{
 "cells": [
  {
   "cell_type": "code",
   "execution_count": 1,
   "id": "91c5312b",
   "metadata": {},
   "outputs": [],
   "source": [
    "import numpy as np \n",
    "import numba as nb\n",
    "import pandas as pd\n",
    "import sklearn"
   ]
  },
  {
   "cell_type": "code",
   "execution_count": 2,
   "id": "17cc5572",
   "metadata": {},
   "outputs": [],
   "source": [
    "def phi(c, p):\n",
    "    r = np.linalg.norm(c-p)\n",
    "    sigma = 1e-5\n",
    "    return np.exp(-sigma * r**2)"
   ]
  },
  {
   "cell_type": "code",
   "execution_count": 3,
   "id": "d16f787b",
   "metadata": {},
   "outputs": [],
   "source": [
    "def phi_prime(c, p):\n",
    "    r = np.linalg.norm(c-p)\n",
    "    sigma = 1e-5\n",
    "    return -2*sigma*r*np.exp(-sigma * r**2)"
   ]
  },
  {
   "cell_type": "markdown",
   "id": "93926fc2",
   "metadata": {},
   "source": [
    "$\\nabla u$"
   ]
  },
  {
   "cell_type": "code",
   "execution_count": 4,
   "id": "b5c781a6",
   "metadata": {},
   "outputs": [],
   "source": [
    "def varphi(c, p):\n",
    "    return phi_prime(c,p) * (p-c) / np.linalg.norm(p-c)"
   ]
  },
  {
   "cell_type": "code",
   "execution_count": 5,
   "id": "77f34c1c",
   "metadata": {},
   "outputs": [],
   "source": [
    "def Phi_matrix(C, B):\n",
    "    t =  B.shape[0]\n",
    "    k = C.shape[0]\n",
    "    mat = np.zeros((3 * t, k))\n",
    "    for i in range(t):\n",
    "        varphi_i = varphi(C, B[i])\n",
    "        mat[i] = varphi_i[:,0].copy()\n",
    "        mat[i+ t] = varphi_i[:,1].copy()\n",
    "        mat[i+2*t] = varphi_i[:,2].copy()\n",
    "    return mat"
   ]
  },
  {
   "cell_type": "code",
   "execution_count": 6,
   "id": "73e2ee90",
   "metadata": {},
   "outputs": [],
   "source": [
    "def a(C, B, V, Phi):\n",
    "    sol = np.linalg.lstsq(np.dot(Phi.T, Phi), np.dot(Phi.T,V.T.reshape(3 * B.shape[0])), rcond=None)\n",
    "    # print(sol[1:])\n",
    "    return sol[0]"
   ]
  },
  {
   "cell_type": "code",
   "execution_count": 7,
   "id": "b1c92ded",
   "metadata": {},
   "outputs": [],
   "source": [
    "def nabla_u(C, alpha, P):\n",
    "    u = np.zeros_like(P)\n",
    "    for i in range(len(P)):\n",
    "        u[i] = np.dot(alpha, varphi(C, P[i]))\n",
    "    return u"
   ]
  },
  {
   "cell_type": "markdown",
   "id": "7d3fcabf",
   "metadata": {},
   "source": [
    "$\\nabla \\wedge w$"
   ]
  },
  {
   "cell_type": "code",
   "execution_count": 8,
   "id": "da2f81e4",
   "metadata": {},
   "outputs": [],
   "source": [
    "def A(C, B, Phi):\n",
    "    t =  B.shape[0]\n",
    "    k = C.shape[0]\n",
    "    zero = np.zeros((t, k))\n",
    "    phix = Phi[:t]\n",
    "    phiy = Phi[t:2*t]\n",
    "    phiz = Phi[2*t:]\n",
    "    return np.block([[zero, -phiz, phiy], [phiz, zero, -phix], [-phiy, phiz, zero]])"
   ]
  },
  {
   "cell_type": "code",
   "execution_count": 9,
   "id": "30b439d3",
   "metadata": {},
   "outputs": [],
   "source": [
    "def nabla_wedge_w(C, alpha, P):\n",
    "    u = np.zeros_like(P)\n",
    "    k = C.shape[0]\n",
    "    a1 = alpha[:k]\n",
    "    a2 = alpha[k:2*k]\n",
    "    a3 = alpha[2*k:]\n",
    "    for i in range(len(P)):\n",
    "        partials = varphi(C,P[i])\n",
    "        x_partial = partials[:,0]\n",
    "        y_partial = partials[:,1]\n",
    "        z_partial = partials[:,2]\n",
    "        u[i]= [np.dot(a3, y_partial)-np.dot(a2,z_partial),\n",
    "        np.dot(a1, z_partial)-np.dot(a3,x_partial),\n",
    "        np.dot(a2, x_partial)-np.dot(a1,y_partial)]\n",
    "    return u\n",
    "    "
   ]
  },
  {
   "cell_type": "markdown",
   "id": "5b1b741f",
   "metadata": {},
   "source": [
    "h"
   ]
  },
  {
   "cell_type": "code",
   "execution_count": 10,
   "id": "3df477f8",
   "metadata": {},
   "outputs": [],
   "source": [
    "def savedata(points, velocities, name=\"testing.csv\"):\n",
    "    data_dict ={\n",
    "        \"x\": points[:,0],\n",
    "        \"y\": points[:,1],\n",
    "        \"z\": 25 * points[:,2],\n",
    "        \"Vx\": velocities[:,0],\n",
    "        \"Vy\": velocities[:,1],\n",
    "        \"Vz\": velocities[:,2],\n",
    "    }\n",
    "    data = pd.DataFrame.from_dict(data_dict)\n",
    "    data.to_csv(name)\n"
   ]
  },
  {
   "cell_type": "code",
   "execution_count": null,
   "id": "83c53c80",
   "metadata": {},
   "outputs": [],
   "source": [
    "def get_decomp(file, save_dir=\"decomp\"):\n",
    "    res = file.split(\"like_\")[-1].split(\".txt\")[0]\n",
    "    df = pd.read_csv(file[8:], skiprows=6, sep=\"\\s+\")\n",
    "    points = np.concatenate((df[[\"x(m)\", \"y(m)\", \"z_s(m)\"]], df[[\"x(m)\", \"y(m)\", \"z_b(m)\"]])) / 1000\n",
    "    velocities = np.concatenate((df[[\"vx_s(m/a)\", \"vy_s(m/a)\", \"vz_s(m/a)\"]], df[[\"vx_b(m/a)\", \"vy_b(m/a)\", \"vz_b(m/a)\"]]))\n",
    "    n_centers =2000\n",
    "    centers = sklearn.cluster.BisectingKMeans(n_clusters=n_centers//2, random_state=0).fit(df[[\"x(m)\", \"y(m)\", \"z_s(m)\"]]).cluster_centers_\n",
    "    centers = np.concatenate((centers, sklearn.cluster.BisectingKMeans(n_clusters=n_centers//2, random_state=0).fit(df[[\"x(m)\", \"y(m)\", \"z_b(m)\"]]).cluster_centers_)) / 1000\n",
    "    Phi = Phi_matrix(centers, points)\n",
    "    alpha = a(centers, points, velocities, Phi)\n",
    "    u = nabla_u(centers,alpha, points)\n",
    "    alpha = a(centers, points, velocities, A(centers,points,Phi))\n",
    "    w = nabla_wedge_w(centers,alpha, points)\n",
    "    savedata(points, velocities, name= f\"{save_dir}\\\\{res} original.csv\")\n",
    "    savedata(points, u, name= f\"{save_dir}\\\\{res} gradfree.csv\")\n",
    "    savedata(points, w, name= f\"{save_dir}\\\\{res} divfree.csv\")\n",
    "    savedata(points, velocities - w - u, name= f\"{save_dir}\\\\{res} harmonic.csv\")\n"
   ]
  }
 ],
 "metadata": {
  "kernelspec": {
   "display_name": "Python 3",
   "language": "python",
   "name": "python3"
  },
  "language_info": {
   "codemirror_mode": {
    "name": "ipython",
    "version": 3
   },
   "file_extension": ".py",
   "mimetype": "text/x-python",
   "name": "python",
   "nbconvert_exporter": "python",
   "pygments_lexer": "ipython3",
   "version": "3.11.5"
  }
 },
 "nbformat": 4,
 "nbformat_minor": 5
}
